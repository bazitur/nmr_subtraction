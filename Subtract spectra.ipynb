{
 "cells": [
  {
   "cell_type": "code",
   "execution_count": 27,
   "metadata": {},
   "outputs": [],
   "source": [
    "import matplotlib.pyplot as plt\n",
    "import numpy as np\n",
    "from pprint import pprint\n",
    "%matplotlib inline"
   ]
  },
  {
   "cell_type": "markdown",
   "metadata": {},
   "source": [
    "First, beautify spectra at MestReNova and save them. Then, put them into this folder:"
   ]
  },
  {
   "cell_type": "code",
   "execution_count": 2,
   "metadata": {},
   "outputs": [],
   "source": [
    "FNAMES = [\"MV_Glc_Trp\", \"MV_Glc_Trp_HSA\"]\n",
    "data = [None for _ in FNAMES]"
   ]
  },
  {
   "cell_type": "code",
   "execution_count": 3,
   "metadata": {},
   "outputs": [],
   "source": [
    "for i, fname in enumerate(FNAMES):\n",
    "    # data head: ppm | real | imag\n",
    "    data[i] = np.genfromtxt(f\"Spectra/{fname}.csv\", delimiter=\"\\t\")"
   ]
  },
  {
   "cell_type": "markdown",
   "metadata": {},
   "source": [
    "Let's look at the data:"
   ]
  },
  {
   "cell_type": "code",
   "execution_count": 4,
   "metadata": {},
   "outputs": [
    {
     "data": {
      "text/plain": [
       "(131072, 3)"
      ]
     },
     "execution_count": 4,
     "metadata": {},
     "output_type": "execute_result"
    }
   ],
   "source": [
    "data[0].shape"
   ]
  },
  {
   "cell_type": "markdown",
   "metadata": {},
   "source": [
    "Now we add weighted values:"
   ]
  },
  {
   "cell_type": "code",
   "execution_count": 77,
   "metadata": {},
   "outputs": [],
   "source": [
    "# np.append(\n",
    "#     data,\n",
    "#     np.reshape(np.sqrt(data[:, :, 1]**2 + data[:, :, 1]**2), data.shape[:-1] + (1,)),\n",
    "#     axis=2\n",
    "# )"
   ]
  },
  {
   "cell_type": "markdown",
   "metadata": {},
   "source": [
    "Let's have a look:"
   ]
  },
  {
   "cell_type": "markdown",
   "metadata": {},
   "source": [
    "perhaps should revert to matrices..."
   ]
  },
  {
   "cell_type": "code",
   "execution_count": 28,
   "metadata": {},
   "outputs": [
    {
     "data": {
      "image/png": "[encoded data removed]",
      "text/plain": [
       "<Figure size 432x288 with 3 Axes>"
      ]
     },
     "metadata": {
      "needs_background": "light"
     },
     "output_type": "display_data"
    }
   ],
   "source": [
    "f, axarr = plt.subplots(3, sharex=True, sharey=True)\n",
    "plt.xlim([2, 8])\n",
    "plt.ylim([-5, 40])\n",
    "plt.gca().invert_xaxis()\n",
    "X = 11\n",
    "axarr[0].plot(data[0][:, 0], data[0][:, 1])\n",
    "axarr[1].plot(data[1][:, 0], np.roll(data[1][:, 1], shift=X))\n",
    "axarr[2].plot(data[0][:, 0], data[0][:, 1] - np.roll(data[1][:, 1], shift=X))\n",
    "plt.plot();"
   ]
  },
  {
   "cell_type": "code",
   "execution_count": 6,
   "metadata": {},
   "outputs": [],
   "source": [
    "from ipywidgets import interact, interactive, fixed, interact_manual\n",
    "import ipywidgets as widgets"
   ]
  },
  {
   "cell_type": "code",
   "execution_count": 38,
   "metadata": {},
   "outputs": [],
   "source": [
    "def f(shift, save=False, ylim=40):\n",
    "    f, axarr = plt.subplots(3, 2, sharex=True, sharey=True)\n",
    "    plt.tight_layout()\n",
    "    plt.xlim([3, 4])\n",
    "    plt.ylim([-5, ylim])\n",
    "    plt.gca().invert_xaxis()\n",
    "    axarr[0, 1].plot(data[0][:, 0], data[0][:, 1], color='k', linewidth=0.5)\n",
    "    axarr[1, 1].plot(data[1][:, 0], np.roll(data[1][:, 1], shift=shift), color='k', linewidth=0.5)\n",
    "    axarr[2, 1].plot(data[0][:, 0], data[0][:, 1] - np.roll(data[1][:, 1], shift=shift), color='k', linewidth=0.5)\n",
    "    plt.xlabel('f1 (ppm)')\n",
    "    if save:\n",
    "        plt.savefig('plot.png', dpi=300)\n",
    "    plt.show()\n",
    "    return"
   ]
  },
  {
   "cell_type": "code",
   "execution_count": 31,
   "metadata": {},
   "outputs": [],
   "source": [
    "plt.rcParams[\"figure.figsize\"] = [7.0, 4.0]"
   ]
  },
  {
   "cell_type": "code",
   "execution_count": 39,
   "metadata": {},
   "outputs": [
    {
     "data": {
      "application/vnd.jupyter.widget-view+json": {
       "model_id": "bde224d357e747588d35e5f36081106d",
       "version_major": 2,
       "version_minor": 0
      },
      "text/plain": [
       "interactive(children=(IntSlider(value=11, description='shift', max=20, min=-10), Checkbox(value=False, descrip…"
      ]
     },
     "metadata": {},
     "output_type": "display_data"
    }
   ],
   "source": [
    "interact(\n",
    "    f,\n",
    "    shift=widgets.IntSlider(min=-10,max=20,step=1,value=11),\n",
    "    ylim=widgets.IntSlider(min=10,max=101,step=10,value=50)\n",
    ");"
   ]
  },
  {
   "cell_type": "markdown",
   "metadata": {},
   "source": [
    "s"
   ]
  },
  {
   "cell_type": "code",
   "execution_count": null,
   "metadata": {},
   "outputs": [],
   "source": [
    "areas_of_interest = ((3., 4.), (7., 7.75))\n"
   ]
  }
 ],
 "metadata": {
  "kernelspec": {
   "display_name": "Python 3",
   "language": "python",
   "name": "python3"
  },
  "language_info": {
   "codemirror_mode": {
    "name": "ipython",
    "version": 3
   },
   "file_extension": ".py",
   "mimetype": "text/x-python",
   "name": "python",
   "nbconvert_exporter": "python",
   "pygments_lexer": "ipython3",
   "version": "3.6.6"
  }
 },
 "nbformat": 4,
 "nbformat_minor": 2
}
